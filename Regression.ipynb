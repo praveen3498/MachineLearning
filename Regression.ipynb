{
 "cells": [
  {
   "cell_type": "markdown",
   "metadata": {},
   "source": [
    "https://machinelearningmastery.com/regression-metrics-for-machine-learning/\n",
    "\n",
    "\n",
    "\n",
    "    Regression Predictive Modeling\n",
    "    Evaluating Regression Models\n",
    "    Metrics for Regression\n",
    "        Mean Squared Error\n",
    "        Root Mean Squared Error\n",
    "        Mean Absolute Error\n"
   ]
  },
  {
   "cell_type": "code",
   "execution_count": 1,
   "metadata": {},
   "outputs": [],
   "source": [
    "from sklearn.linear_model import LinearRegression,LogisticRegression\n",
    "from sklearn.model_selection import train_test_split\n",
    "from sklearn.metrics import mean_squared_error, r2_score, mean_absolute_error\n",
    "import pandas as pd\n",
    "import numpy as np"
   ]
  },
  {
   "cell_type": "code",
   "execution_count": 2,
   "metadata": {},
   "outputs": [
    {
     "name": "stdout",
     "output_type": "stream",
     "text": [
      "<class 'pandas.core.series.Series'>\n"
     ]
    }
   ],
   "source": [
    "data = pd.read_csv('solarData2.csv')\n",
    "X = data.iloc[:,:-1]\n",
    "y = data.iloc[:,-1]\n",
    "print(type(y))"
   ]
  },
  {
   "cell_type": "code",
   "execution_count": 3,
   "metadata": {},
   "outputs": [],
   "source": [
    "# # import library\n",
    "# from collections import Counter\n",
    "\n",
    "# from imblearn.under_sampling import RandomUnderSampler\n",
    "# from imblearn.over_sampling import RandomOverSampler\n",
    "\n",
    "# ros = RandomOverSampler(random_state=42)\n",
    "\n",
    "# # fit predictor and target variable\n",
    "\n",
    "# x_ros, y_ros = ros.fit_resample(X, y)\n",
    "\n",
    "# print('Original dataset shape', Counter(y))\n",
    "# print('Resample dataset shape', Counter(y_ros))\n",
    "# len(y)\n",
    "# # print(y.shape())\n",
    "# # print(X.shape())\n",
    "# # print(y_ros.shape())\n",
    "# # print(x_ros.shape())\n",
    "# X=x_ros\n",
    "# y=y_ros\n",
    "# #print(type(y))\n",
    "# #y1=y.values.reshape(-1,1)"
   ]
  },
  {
   "cell_type": "code",
   "execution_count": 4,
   "metadata": {},
   "outputs": [],
   "source": [
    "#from sklearn.preprocessing import StandardScaler\n",
    "#scaler = StandardScaler()\n",
    "#X=scaler.fit_transform(X)\n",
    "\n",
    "#X_train, X_test, y_train, y_test = train_test_split(X, y, test_size=0.2, random_state=42)\n",
    "X_train, X_test, y_train, y_test = train_test_split(X, y, test_size=0.2, random_state=42)"
   ]
  },
  {
   "cell_type": "code",
   "execution_count": 5,
   "metadata": {},
   "outputs": [
    {
     "name": "stdout",
     "output_type": "stream",
     "text": [
      "shape of X_train:  (892, 7)\n",
      "shape of X_test:  (224, 7)\n",
      "shape of y_train:  (892,)\n",
      "shape of y_test:  (224,)\n"
     ]
    }
   ],
   "source": [
    "print(\"shape of X_train: \",X_train.shape)\n",
    "print(\"shape of X_test: \",X_test.shape)\n",
    "print(\"shape of y_train: \",y_train.shape)\n",
    "print(\"shape of y_test: \",y_test.shape)"
   ]
  },
  {
   "cell_type": "code",
   "execution_count": 6,
   "metadata": {},
   "outputs": [],
   "source": [
    "LR = LinearRegression()\n",
    "LR.fit(X_train, y_train)\n",
    "# Predicting the Test set results\n",
    "y_pred = LR.predict(X_test)"
   ]
  },
  {
   "cell_type": "code",
   "execution_count": 7,
   "metadata": {},
   "outputs": [
    {
     "name": "stdout",
     "output_type": "stream",
     "text": [
      "Linear Regression:\n",
      "Mean Absolute error: 164.54\n",
      "Mean squared error: 61042.33\n",
      "Root Mean squared error: 247.07\n",
      "R2 value:0.966078\n"
     ]
    }
   ],
   "source": [
    "y_pred = LR.predict(X_test)\n",
    "#print('Coefficients: \\n', LR.coef_)\n",
    "# The mean squared error\n",
    "#print(\"Mean squared error: %.2f\" % np.mean((LR.predict(X_test) - y_test) ** 2))\n",
    "# Explained variance score: 1 is perfect prediction\n",
    "#print('Variance score: %.2f' % regressor.score(X_test, y_test))\n",
    "print(\"Linear Regression:\")\n",
    "print(\"Mean Absolute error: %.2f\" % mean_absolute_error(y_test, y_pred))\n",
    "print(\"Mean squared error: %.2f\" % mean_squared_error(y_test, y_pred))\n",
    "print(\"Root Mean squared error: %.2f\" % mean_squared_error(y_pred,y_test, squared=False))\n",
    "#print(\"R2 value:%2f\" % r2_score(y_test, y_pred))\n",
    "print(\"R2 value:%2f\" % r2_score(y_test, y_pred))"
   ]
  },
  {
   "cell_type": "code",
   "execution_count": 8,
   "metadata": {},
   "outputs": [],
   "source": [
    "# d = y_test - y_pred\n",
    "# mse_f = np.mean(d**2)\n",
    "# mae_f = np.mean(abs(d))\n",
    "# rmse_f = np.sqrt(mse_f)\n",
    "# r2_f = 1-(sum(d**2)/sum((y-np.mean(y))**2))\n",
    "\n",
    "# print(\"Results by manual calculation:\")\n",
    "# print(\"MAE:\",mae_f)\n",
    "# print(\"MSE:\", mse_f)\n",
    "# print(\"RMSE:\", rmse_f)\n",
    "# print(\"R-Squared:\", r2_f)"
   ]
  },
  {
   "cell_type": "code",
   "execution_count": 9,
   "metadata": {},
   "outputs": [],
   "source": [
    "#y_test"
   ]
  },
  {
   "cell_type": "code",
   "execution_count": 10,
   "metadata": {},
   "outputs": [],
   "source": [
    "#y_pred"
   ]
  },
  {
   "cell_type": "code",
   "execution_count": 11,
   "metadata": {},
   "outputs": [
    {
     "name": "stdout",
     "output_type": "stream",
     "text": [
      "Logistic Regression:\n",
      "Mean Absolute error: 536.57\n",
      "Mean squared error: 779026.29\n",
      "Root Mean squared error: 882.62\n",
      "R2 value:0.567088\n"
     ]
    },
    {
     "name": "stderr",
     "output_type": "stream",
     "text": [
      "C:\\Users\\laksh\\anaconda3\\lib\\site-packages\\sklearn\\linear_model\\_logistic.py:763: ConvergenceWarning: lbfgs failed to converge (status=1):\n",
      "STOP: TOTAL NO. of ITERATIONS REACHED LIMIT.\n",
      "\n",
      "Increase the number of iterations (max_iter) or scale the data as shown in:\n",
      "    https://scikit-learn.org/stable/modules/preprocessing.html\n",
      "Please also refer to the documentation for alternative solver options:\n",
      "    https://scikit-learn.org/stable/modules/linear_model.html#logistic-regression\n",
      "  n_iter_i = _check_optimize_result(\n"
     ]
    }
   ],
   "source": [
    "Logistic_R = LogisticRegression()\n",
    "Logistic_R.fit(X_train, y_train)\n",
    "# Predicting the Test set results\n",
    "#y_pred = Logistic_R.predict(X_test)\n",
    "\n",
    "y_pred = Logistic_R.predict(X_test)\n",
    "#print('Coefficients: \\n', LR.coef_)\n",
    "# The mean squared error\n",
    "#print(\"Mean squared error: %.2f\" % np.mean((LR.predict(X_test) - y_test) ** 2))\n",
    "# Explained variance score: 1 is perfect prediction\n",
    "#print('Variance score: %.2f' % regressor.score(X_test, y_test))\n",
    "print(\"Logistic Regression:\")\n",
    "print(\"Mean Absolute error: %.2f\" % mean_absolute_error(y_test, y_pred))\n",
    "print(\"Mean squared error: %.2f\" % mean_squared_error(y_test, y_pred))\n",
    "print(\"Root Mean squared error: %.2f\" % mean_squared_error(y_pred,y_test, squared=False))\n",
    "#print(\"R2 value:%2f\" % r2_score(y_test, y_pred))\n",
    "print(\"R2 value:%2f\" % r2_score(y_test, y_pred))"
   ]
  },
  {
   "cell_type": "code",
   "execution_count": 12,
   "metadata": {},
   "outputs": [
    {
     "name": "stdout",
     "output_type": "stream",
     "text": [
      "Support Vector Regression:\n",
      "Mean Absolute error: 0.09\n",
      "Mean squared error: 0.01\n",
      "Root Mean squared error: 0.10\n",
      "R2 value:0.991282\n"
     ]
    },
    {
     "name": "stderr",
     "output_type": "stream",
     "text": [
      "C:\\Users\\laksh\\anaconda3\\lib\\site-packages\\sklearn\\utils\\validation.py:63: DataConversionWarning: A column-vector y was passed when a 1d array was expected. Please change the shape of y to (n_samples, ), for example using ravel().\n",
      "  return f(*args, **kwargs)\n"
     ]
    }
   ],
   "source": [
    "from sklearn.svm import SVR\n",
    "from sklearn.preprocessing import LabelEncoder, OneHotEncoder, StandardScaler\n",
    "\n",
    "\n",
    "#Performing feature scaling, since it is not an inbuild feature of SVR class in sk-learn\n",
    "\n",
    "scale_X = StandardScaler()\n",
    "scale_y = StandardScaler()\n",
    "\n",
    "#y=y.reshape(-1, 1)\n",
    "\n",
    "X_sc = scale_X.fit_transform(X)\n",
    "y_sc = scale_y.fit_transform(y.values.reshape(-1,1))\n",
    "\n",
    "\n",
    "X_sc_train, X_sc_test, y_sc_train, y_sc_test = train_test_split(X_sc, y_sc, test_size=0.2, random_state=42)\n",
    "\n",
    "svr_regressor = SVR(kernel='rbf', gamma='auto')\n",
    "svr_regressor.fit(X_sc_train, y_sc_train)\n",
    "\n",
    "y_sc_pred = svr_regressor.predict(X_sc_test)\n",
    "\n",
    "\n",
    "print(\"Support Vector Regression:\")\n",
    "print(\"Mean Absolute error: %.2f\" % mean_absolute_error(y_sc_test, y_sc_pred))\n",
    "print(\"Mean squared error: %.2f\" % mean_squared_error(y_sc_test, y_sc_pred))\n",
    "print(\"Root Mean squared error: %.2f\" % mean_squared_error(y_sc_pred,y_sc_test, squared=False))\n",
    "#print(\"R2 value:%2f\" % r2_score(y_test, y_pred))\n",
    "print(\"R2 value:%2f\" % r2_score(y_sc_test, y_sc_pred))"
   ]
  },
  {
   "cell_type": "code",
   "execution_count": 13,
   "metadata": {},
   "outputs": [
    {
     "name": "stdout",
     "output_type": "stream",
     "text": [
      "Support Vector Regression:\n",
      "Mean Absolute error: 0.00\n",
      "Mean squared error: 0.00\n",
      "Root Mean squared error: 0.00\n",
      "R2 value:1.000000\n"
     ]
    }
   ],
   "source": [
    "from sklearn.tree import DecisionTreeRegressor\n",
    "\n",
    "tree_regressor = DecisionTreeRegressor(random_state = 0)\n",
    "tree_regressor.fit(X_train, y_train)\n",
    "\n",
    "\n",
    "\n",
    "y_dt_pred = tree_regressor.predict(X_test)\n",
    "\n",
    "\n",
    "print(\"Support Vector Regression:\")\n",
    "print(\"Mean Absolute error: %.2f\" % mean_absolute_error(y_test, y_dt_pred))\n",
    "print(\"Mean squared error: %.2f\" % mean_squared_error(y_test, y_dt_pred))\n",
    "print(\"Root Mean squared error: %.2f\" % mean_squared_error(y_dt_pred,y_test, squared=False))\n",
    "#print(\"R2 value:%2f\" % r2_score(y_test, y_pred))\n",
    "print(\"R2 value:%2f\" % r2_score(y_test, y_dt_pred))"
   ]
  },
  {
   "cell_type": "code",
   "execution_count": 14,
   "metadata": {},
   "outputs": [
    {
     "name": "stdout",
     "output_type": "stream",
     "text": [
      "Support Vector Regression:\n",
      "Mean Absolute error: 0.00\n",
      "Mean squared error: 0.00\n",
      "Root Mean squared error: 0.00\n",
      "R2 value:1.000000\n"
     ]
    }
   ],
   "source": [
    "from sklearn.ensemble import RandomForestRegressor\n",
    "forest_regressor = RandomForestRegressor(n_estimators = 300, random_state = 0)\n",
    "forest_regressor.fit(X_train, y_train)\n",
    "\n",
    "y_rf_pred = tree_regressor.predict(X_test)\n",
    "\n",
    "\n",
    "print(\"RF Regression:\")\n",
    "print(\"Mean Absolute error: %.2f\" % mean_absolute_error(y_test, y_rf_pred))\n",
    "print(\"Mean squared error: %.2f\" % mean_squared_error(y_test, y_rf_pred))\n",
    "print(\"Root Mean squared error: %.2f\" % mean_squared_error(y_rf_pred,y_test, squared=False))\n",
    "#print(\"R2 value:%2f\" % r2_score(y_test, y_pred))\n",
    "print(\"R2 value:%2f\" % r2_score(y_test, y_rf_pred))"
   ]
  },
  {
   "cell_type": "code",
   "execution_count": 15,
   "metadata": {},
   "outputs": [
    {
     "name": "stdout",
     "output_type": "stream",
     "text": [
      "K-Nearest Neighbor Regression:\n",
      "Mean Absolute error: 0.00\n",
      "Mean squared error: 0.00\n",
      "Root Mean squared error: 0.00\n",
      "R2 value:1.000000\n"
     ]
    }
   ],
   "source": [
    "from sklearn.neighbors import KNeighborsRegressor\n",
    "knn=KNeighborsRegressor(n_neighbors = 2)\n",
    "knn.fit(X_train, y_train)  #fit the model\n",
    "y_knn_pred=knn.predict(X_test) #make prediction on test set\n",
    "\n",
    "print(\"K-Nearest Neighbor Regression:\")\n",
    "print(\"Mean Absolute error: %.2f\" % mean_absolute_error(y_test, y_knn_pred))\n",
    "print(\"Mean squared error: %.2f\" % mean_squared_error(y_test, y_knn_pred))\n",
    "print(\"Root Mean squared error: %.2f\" % mean_squared_error(y_knn_pred,y_test, squared=False))\n",
    "#print(\"R2 value:%2f\" % r2_score(y_test, y_pred))\n",
    "print(\"R2 value:%2f\" % r2_score(y_test, y_knn_pred))"
   ]
  },
  {
   "cell_type": "code",
   "execution_count": 31,
   "metadata": {},
   "outputs": [
    {
     "data": {
      "image/png": "[encoded data removed]",
      "text/plain": [
       "<Figure size 432x288 with 1 Axes>"
      ]
     },
     "metadata": {
      "needs_background": "light"
     },
     "output_type": "display_data"
    },
    {
     "data": {
      "image/png": "[encoded data removed]",
      "text/plain": [
       "<Figure size 720x360 with 1 Axes>"
      ]
     },
     "metadata": {
      "needs_background": "light"
     },
     "output_type": "display_data"
    },
    {
     "data": {
      "image/png": "[encoded data removed]",
      "text/plain": [
       "<Figure size 432x288 with 1 Axes>"
      ]
     },
     "metadata": {
      "needs_background": "light"
     },
     "output_type": "display_data"
    }
   ],
   "source": [
    "LR_MAE=[164.54]\n",
    "LoR_MAE=[536.57]\n",
    "SVR_MAE=[0,0.01,0.02,0.03,0.09]\n",
    "RF_MAE=[0]\n",
    "KNN_MAE=[0]\n",
    "MAE=[0,0,0.09,164.54,536.57]\n",
    "\n",
    "# importing package\n",
    "import matplotlib.pyplot as plt\n",
    "import numpy as np\n",
    "\n",
    "# create data\n",
    "x = [1,2,3,4,5]\n",
    "y = [3,3,3,3,3]\n",
    "\n",
    "# plot lines\n",
    "plt.plot(SVR_MAE, label = \"line 1\", linestyle=\"-\")\n",
    "#plt.plot(y, x, label = \"line 2\", linestyle=\"--\")\n",
    "#plt.plot(x, np.sin(x), label = \"curve 1\", linestyle=\"-.\")\n",
    "#plt.plot(x, np.cos(x), label = \"curve 2\", linestyle=\":\")\n",
    "plt.legend()\n",
    "plt.show()\n",
    "\n",
    "\n",
    "\n",
    "import numpy as np\n",
    "import matplotlib.pyplot as plt\n",
    " \n",
    "  \n",
    "# creating the dataset\n",
    "data = {'KNN':0, 'RF':0, 'SVR':0.09,'LR':164.54,'LoR':536.57}\n",
    "courses = list(data.keys())\n",
    "values = list(data.values())\n",
    "  \n",
    "fig = plt.figure(figsize = (10, 5))\n",
    " \n",
    "# creating the bar plot\n",
    "plt.bar(courses, values, color ='maroon', width = 0.4)\n",
    " \n",
    "plt.xlabel(\"Courses offered\")\n",
    "plt.ylabel(\"No. of students enrolled\")\n",
    "plt.title(\"Students enrolled in different courses\")\n",
    "plt.show()\n",
    "\n",
    "import matplotlib.pyplot as plt\n",
    "x = [\"KNN\", \"RF\", \"SVR\", \"LR\", \"LoR\"]\n",
    "MAE=[0,0,0.09,164.54,536.57]\n",
    "\n",
    "#fig = plt.figure(figsize = (10, 5)\n",
    "\n",
    "plt.barh(x,MAE)\n",
    "\n",
    "for index, value in enumerate(MAE):\n",
    "        plt.text(value, index,str(value))\n",
    "  \n",
    "plt.show()"
   ]
  }
 ],
 "metadata": {
  "kernelspec": {
   "display_name": "Python 3",
   "language": "python",
   "name": "python3"
  },
  "language_info": {
   "codemirror_mode": {
    "name": "ipython",
    "version": 3
   },
   "file_extension": ".py",
   "mimetype": "text/x-python",
   "name": "python",
   "nbconvert_exporter": "python",
   "pygments_lexer": "ipython3",
   "version": "3.8.5"
  }
 },
 "nbformat": 4,
 "nbformat_minor": 4
}
